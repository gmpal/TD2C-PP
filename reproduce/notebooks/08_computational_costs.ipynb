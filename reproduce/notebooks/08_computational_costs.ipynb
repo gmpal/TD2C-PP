{
 "cells": [
  {
   "cell_type": "code",
   "execution_count": null,
   "metadata": {},
   "outputs": [],
   "source": [
    "#avoids the need for users to install TD2C as a package\n",
    "import sys\n",
    "sys.path.append('../..') "
   ]
  },
  {
   "cell_type": "code",
   "execution_count": 3,
   "metadata": {},
   "outputs": [],
   "source": [
    "import os\n",
    "import sys\n",
    "import time\n",
    "import pandas as pd\n",
    "import pickle\n",
    "from sklearn.ensemble import RandomForestClassifier\n",
    "\n",
    "# --- Environment Setup for Fair Benchmarking ---\n",
    "# This is crucial for methods like VARLiNGAM that might use multiple threads\n",
    "# even when n_jobs is not explicitly set high.\n",
    "os.environ['MKL_NUM_THREADS'] = '1'\n",
    "os.environ['NUMEXPR_NUM_THREADS'] = '1'\n",
    "os.environ['OMP_NUM_THREADS'] = '1'\n",
    "os.environ['OPENBLAS_NUM_THREADS'] = '1'\n",
    "\n",
    "# --- Import D2C and Benchmark Classes ---\n",
    "from d2c.data_generation.builder import TSBuilder\n",
    "from d2c.descriptors import DataLoader\n",
    "from d2c.benchmark import VAR, VARLiNGAM, PCMCI, Granger, DYNOTEARS, MultivariateGranger,D2CWrapper\n",
    "from imblearn.ensemble import BalancedRandomForestClassifier\n"
   ]
  },
  {
   "cell_type": "code",
   "execution_count": 26,
   "metadata": {},
   "outputs": [],
   "source": [
    "\n",
    "# --- Configuration ---\n",
    "N_VARS_LIST = [3, 5, 10, 15, 20, 25]\n",
    "MAXLAGS = 3\n",
    "N_JOBS_D2C_LOW = 1\n",
    "N_JOBS_D2C_HIGH = 50 # As requested\n",
    "TRAINING_DESCRIPTORS_PATH = 'data/descriptors_df_train.pkl'\n",
    "RESULTS_SAVE_PATH = 'data/benchmark_times_by_nvars.csv'\n"
   ]
  },
  {
   "cell_type": "code",
   "execution_count": 16,
   "metadata": {},
   "outputs": [],
   "source": [
    "def train_model(path_to_descriptors: str):\n",
    "    \"\"\"\n",
    "    Loads training descriptors and trains a BalancedRandomForestClassifier.\n",
    "    \"\"\"\n",
    "    print(f\"Loading training data from {path_to_descriptors}...\")\n",
    "    try:\n",
    "        descriptors_df_train = pd.read_pickle(path_to_descriptors)\n",
    "    except FileNotFoundError:\n",
    "        print(f\"ERROR: Training data not found at {path_to_descriptors}.\")\n",
    "        print(\"Please ensure you have generated and saved the training descriptors.\")\n",
    "        sys.exit(1)\n",
    "\n",
    "    print(\"Training the classifier...\")\n",
    "    X_train = descriptors_df_train.drop(columns=['graph_id', 'edge_source', 'edge_dest', 'is_causal'])\n",
    "    y_train = descriptors_df_train['is_causal']\n",
    "\n",
    "    # Using the same classifier as in the notebook for consistency\n",
    "    clf = BalancedRandomForestClassifier(\n",
    "        n_estimators=500,\n",
    "        class_weight='balanced',\n",
    "        random_state=42,\n",
    "        replacement=True,\n",
    "        bootstrap=True,\n",
    "        sampling_strategy='all',\n",
    "        n_jobs=1\n",
    "    )\n",
    "    clf.fit(X_train, y_train)\n",
    "    print(\"Classifier training complete.\")\n",
    "    return clf\n"
   ]
  },
  {
   "cell_type": "code",
   "execution_count": 27,
   "metadata": {},
   "outputs": [],
   "source": [
    "\n",
    "# --- Main Benchmark Execution ---\n",
    "def run_benchmark(model):\n",
    "    \"\"\"\n",
    "    Runs the full benchmark across different numbers of variables and processes.\n",
    "    \"\"\"\n",
    "    results_list = []\n",
    "\n",
    "    # Define the set of standard benchmark methods to run\n",
    "    benchmark_methods = {\n",
    "        'VAR': VAR,\n",
    "        'VARLiNGAM': VARLiNGAM,\n",
    "        'Granger': Granger,\n",
    "        'DYNOTEARS': DYNOTEARS,\n",
    "        'MultivariateGranger': MultivariateGranger\n",
    "    }\n",
    "\n",
    "    for n_vars in N_VARS_LIST:\n",
    "        print(\"\\n\" + \"=\"*60)\n",
    "        print(f\"Benchmarking: {n_vars} variables, Process ID\")\n",
    "        print(\"=\"*60)\n",
    "\n",
    "        # --- 2. Generate a single time series for the current configuration ---\n",
    "        print(\"Generating time series data...\")\n",
    "        tsbuilder = TSBuilder(\n",
    "            observations_per_time_series=250,\n",
    "            maxlags=MAXLAGS,\n",
    "            n_variables=n_vars,\n",
    "            time_series_per_process=1,\n",
    "            processes_to_use=[2],\n",
    "            noise_dist='gaussian',\n",
    "            noise_scale=0.1,\n",
    "            max_neighborhood_size=2,\n",
    "            seed=42,\n",
    "            max_attempts=10,\n",
    "            verbose=False # Keep output clean\n",
    "        )\n",
    "        tsbuilder.build()\n",
    "\n",
    "        # Use DataLoader to easily get original and lagged data formats\n",
    "        dataloader = DataLoader(n_variables=n_vars, maxlags=MAXLAGS)\n",
    "        dataloader.from_tsbuilder(tsbuilder)\n",
    "        \n",
    "        # The methods expect a list of time series, which DataLoader provides\n",
    "        original_observations_list = dataloader.get_original_observations()\n",
    "        lagged_observations_list = dataloader.get_observations()\n",
    "\n",
    "        # --- 3. Run standard benchmarks (n_jobs=1) ---\n",
    "        for name, method_class in benchmark_methods.items():\n",
    "            print(f\"Running {name}...\")\n",
    "            start_time = time.time()\n",
    "            try:\n",
    "                runner = method_class(\n",
    "                    ts_list=original_observations_list,\n",
    "                    maxlags=MAXLAGS,\n",
    "                    n_jobs=1 # Critical for fair comparison\n",
    "                )\n",
    "                runner.run()\n",
    "            except Exception as e:\n",
    "                print(f\"  ERROR running {name}: {e}\")\n",
    "                # You might want to log the error and continue\n",
    "            \n",
    "            end_time = time.time()\n",
    "            execution_time = end_time - start_time\n",
    "            print(f\"  {name} finished in {execution_time:.4f} seconds.\")\n",
    "            results_list.append({\n",
    "                'n_variables': n_vars,\n",
    "                'method': name,\n",
    "                'execution_time': execution_time\n",
    "            })\n",
    "\n",
    "        # Run PCMCI with ParCorr (the default)\n",
    "        method_name_pcmci_default = 'PCMCI (ParCorr)'\n",
    "        print(f\"Running {method_name_pcmci_default}...\")\n",
    "        start_time = time.time()\n",
    "        try:\n",
    "            runner_pcmci_default = PCMCI(\n",
    "                ts_list=original_observations_list,\n",
    "                maxlags=MAXLAGS,\n",
    "                n_jobs=1,\n",
    "                ci='ParCorr' # Explicitly state the default for clarity\n",
    "            )\n",
    "            runner_pcmci_default.run()\n",
    "        except Exception as e:\n",
    "            print(f\"  ERROR running {method_name_pcmci_default}: {e}\")\n",
    "        end_time = time.time()\n",
    "        execution_time = end_time - start_time\n",
    "        print(f\"  {method_name_pcmci_default} finished in {execution_time:.4f} seconds.\")\n",
    "        results_list.append({\n",
    "            'n_variables': n_vars,\n",
    "            'method': method_name_pcmci_default,\n",
    "            'execution_time': execution_time\n",
    "        })\n",
    "\n",
    "        # Run PCMCI with GPDC\n",
    "        method_name_pcmci_gpdc = 'PCMCI (GPDC)'\n",
    "        print(f\"Running {method_name_pcmci_gpdc}...\")\n",
    "        start_time = time.time()\n",
    "        try:\n",
    "            runner_pcmci_gpdc = PCMCI(\n",
    "                ts_list=original_observations_list,\n",
    "                maxlags=MAXLAGS,\n",
    "                n_jobs=1,\n",
    "                ci='GPDC' # Use the specified conditional independence test\n",
    "            )\n",
    "            runner_pcmci_gpdc.run()\n",
    "        except Exception as e:\n",
    "            print(f\"  ERROR running {method_name_pcmci_gpdc}: {e}\")\n",
    "        end_time = time.time()\n",
    "        execution_time = end_time - start_time\n",
    "        print(f\"  {method_name_pcmci_gpdc} finished in {execution_time:.4f} seconds.\")\n",
    "        results_list.append({\n",
    "            'n_variables': n_vars,\n",
    "            'method': method_name_pcmci_gpdc,\n",
    "            'execution_time': execution_time\n",
    "        })\n",
    "\n",
    "\n",
    "        # --- 4. Run D2CWrapper with different n_jobs settings ---\n",
    "        # D2C (1 job)\n",
    "        method_name_d2c_low = f'D2C ({N_JOBS_D2C_LOW} job)'\n",
    "        print(f\"Running {method_name_d2c_low}...\")\n",
    "        start_time = time.time()\n",
    "        d2c_runner_low = D2CWrapper(\n",
    "            ts_list=lagged_observations_list,\n",
    "            model=model,\n",
    "            n_variables=n_vars,\n",
    "            maxlags=MAXLAGS,\n",
    "            mb_estimator='ts',\n",
    "            n_jobs=N_JOBS_D2C_LOW,\n",
    "            full=True,\n",
    "            dynamic=True,\n",
    "            manages_own_parallelism=True # Times internal parallelism\n",
    "        )\n",
    "        d2c_runner_low.run()\n",
    "        end_time = time.time()\n",
    "        execution_time = end_time - start_time\n",
    "        print(f\"  {method_name_d2c_low} finished in {execution_time:.4f} seconds.\")\n",
    "        results_list.append({\n",
    "            'n_variables': n_vars,\n",
    "            'method': method_name_d2c_low,\n",
    "            'execution_time': execution_time\n",
    "        })\n",
    "\n",
    "        # D2C (50 jobs)\n",
    "        method_name_d2c_high = f'D2C ({N_JOBS_D2C_HIGH} jobs)'\n",
    "        print(f\"Running {method_name_d2c_high}...\")\n",
    "        start_time = time.time()\n",
    "        d2c_runner_high = D2CWrapper(\n",
    "            ts_list=lagged_observations_list,\n",
    "            model=model,\n",
    "            n_variables=n_vars,\n",
    "            maxlags=MAXLAGS,\n",
    "            mb_estimator='ts',\n",
    "            n_jobs=N_JOBS_D2C_HIGH,\n",
    "            full=True,\n",
    "            dynamic=True,\n",
    "            manages_own_parallelism=True # Times internal parallelism\n",
    "        )\n",
    "        d2c_runner_high.run()\n",
    "        end_time = time.time()\n",
    "        execution_time = end_time - start_time\n",
    "        print(f\"  {method_name_d2c_high} finished in {execution_time:.4f} seconds.\")\n",
    "        results_list.append({\n",
    "            'n_variables': n_vars,\n",
    "            'method': method_name_d2c_high,\n",
    "            'execution_time': execution_time\n",
    "        })\n",
    "\n",
    "    return pd.DataFrame(results_list)"
   ]
  },
  {
   "cell_type": "code",
   "execution_count": 21,
   "metadata": {},
   "outputs": [
    {
     "name": "stdout",
     "output_type": "stream",
     "text": [
      "Loading training data from data/descriptors_df_train.pkl...\n",
      "Training the classifier...\n",
      "Classifier training complete.\n"
     ]
    }
   ],
   "source": [
    "trained_model = train_model(TRAINING_DESCRIPTORS_PATH)"
   ]
  },
  {
   "cell_type": "code",
   "execution_count": 28,
   "metadata": {},
   "outputs": [
    {
     "name": "stdout",
     "output_type": "stream",
     "text": [
      "\n",
      "============================================================\n",
      "Benchmarking: 3 variables, Process ID\n",
      "============================================================\n",
      "Generating time series data...\n",
      "Running VAR...\n",
      "Running in single-threaded mode or managing parallelism manually.\n"
     ]
    },
    {
     "data": {
      "application/vnd.jupyter.widget-view+json": {
       "model_id": "41077a6f309b4eb98d520ee3d15738e8",
       "version_major": 2,
       "version_minor": 0
      },
      "text/plain": [
       "Processing Time Series:   0%|          | 0/1 [00:00<?, ?it/s]"
      ]
     },
     "metadata": {},
     "output_type": "display_data"
    },
    {
     "name": "stdout",
     "output_type": "stream",
     "text": [
      "  VAR finished in 0.0229 seconds.\n",
      "Running VARLiNGAM...\n",
      "Running in single-threaded mode or managing parallelism manually.\n"
     ]
    },
    {
     "data": {
      "application/vnd.jupyter.widget-view+json": {
       "model_id": "69deb3e3c9e84a2c924f145bbd3214fe",
       "version_major": 2,
       "version_minor": 0
      },
      "text/plain": [
       "Processing Time Series:   0%|          | 0/1 [00:00<?, ?it/s]"
      ]
     },
     "metadata": {},
     "output_type": "display_data"
    },
    {
     "name": "stdout",
     "output_type": "stream",
     "text": [
      "  VARLiNGAM finished in 0.3948 seconds.\n",
      "Running Granger...\n",
      "Running in single-threaded mode or managing parallelism manually.\n"
     ]
    },
    {
     "data": {
      "application/vnd.jupyter.widget-view+json": {
       "model_id": "c32fa2f3b7454d84aec31dd8bf11c116",
       "version_major": 2,
       "version_minor": 0
      },
      "text/plain": [
       "Processing Time Series:   0%|          | 0/1 [00:00<?, ?it/s]"
      ]
     },
     "metadata": {},
     "output_type": "display_data"
    },
    {
     "name": "stdout",
     "output_type": "stream",
     "text": [
      "  Granger finished in 0.0573 seconds.\n",
      "Running DYNOTEARS...\n",
      "Running in single-threaded mode or managing parallelism manually.\n"
     ]
    },
    {
     "name": "stderr",
     "output_type": "stream",
     "text": [
      "/home/gpaldino/miniconda3/envs/td2c/lib/python3.8/site-packages/statsmodels/tsa/stattools.py:1545: FutureWarning: verbose is deprecated since functions should not print results\n",
      "  warnings.warn(\n"
     ]
    },
    {
     "data": {
      "application/vnd.jupyter.widget-view+json": {
       "model_id": "a99f33fcd00346de82babaf724fc1682",
       "version_major": 2,
       "version_minor": 0
      },
      "text/plain": [
       "Processing Time Series:   0%|          | 0/1 [00:00<?, ?it/s]"
      ]
     },
     "metadata": {},
     "output_type": "display_data"
    },
    {
     "name": "stdout",
     "output_type": "stream",
     "text": [
      "  DYNOTEARS finished in 0.0129 seconds.\n",
      "Running MultivariateGranger...\n",
      "Running in single-threaded mode or managing parallelism manually.\n"
     ]
    },
    {
     "name": "stderr",
     "output_type": "stream",
     "text": [
      "/home/gpaldino/miniconda3/envs/td2c/lib/python3.8/site-packages/causalnex/structure/transformers.py:198: FutureWarning: RangeIndex.is_integer is deprecated. Use pandas.api.types.is_integer_dtype instead.\n",
      "  if not t.index.is_integer():\n",
      "/home/gpaldino/miniconda3/envs/td2c/lib/python3.8/site-packages/causalnex/structure/transformers.py:198: FutureWarning: RangeIndex.is_integer is deprecated. Use pandas.api.types.is_integer_dtype instead.\n",
      "  if not t.index.is_integer():\n"
     ]
    },
    {
     "data": {
      "application/vnd.jupyter.widget-view+json": {
       "model_id": "06588def5efe494c8cea34ec984cc502",
       "version_major": 2,
       "version_minor": 0
      },
      "text/plain": [
       "Processing Time Series:   0%|          | 0/1 [00:00<?, ?it/s]"
      ]
     },
     "metadata": {},
     "output_type": "display_data"
    },
    {
     "name": "stdout",
     "output_type": "stream",
     "text": [
      "  MultivariateGranger finished in 0.0217 seconds.\n",
      "Running PCMCI (ParCorr)...\n",
      "Running in single-threaded mode or managing parallelism manually.\n"
     ]
    },
    {
     "data": {
      "application/vnd.jupyter.widget-view+json": {
       "model_id": "c61199099d6949f5b543161e6c914f66",
       "version_major": 2,
       "version_minor": 0
      },
      "text/plain": [
       "Processing Time Series:   0%|          | 0/1 [00:00<?, ?it/s]"
      ]
     },
     "metadata": {},
     "output_type": "display_data"
    },
    {
     "name": "stdout",
     "output_type": "stream",
     "text": [
      "  PCMCI (ParCorr) finished in 0.0822 seconds.\n",
      "Running PCMCI (GPDC)...\n",
      "Running in single-threaded mode or managing parallelism manually.\n"
     ]
    },
    {
     "data": {
      "application/vnd.jupyter.widget-view+json": {
       "model_id": "bdda10d18cc84f4eb10fd65f5d0f891b",
       "version_major": 2,
       "version_minor": 0
      },
      "text/plain": [
       "Processing Time Series:   0%|          | 0/1 [00:00<?, ?it/s]"
      ]
     },
     "metadata": {},
     "output_type": "display_data"
    },
    {
     "name": "stderr",
     "output_type": "stream",
     "text": [
      "/home/gpaldino/miniconda3/envs/td2c/lib/python3.8/site-packages/sklearn/gaussian_process/kernels.py:429: ConvergenceWarning: The optimal value found for dimension 0 of parameter k1__length_scale is close to the specified upper bound 100000.0. Increasing the bound and calling fit again may find a better value.\n",
      "  warnings.warn(\n"
     ]
    },
    {
     "name": "stdout",
     "output_type": "stream",
     "text": [
      "  PCMCI (GPDC) finished in 5.6861 seconds.\n",
      "Running D2C (1 job)...\n",
      "Running in single-threaded mode or managing parallelism manually.\n"
     ]
    },
    {
     "data": {
      "application/vnd.jupyter.widget-view+json": {
       "model_id": "8840f78df46142d2aebf5f75bc67f6d4",
       "version_major": 2,
       "version_minor": 0
      },
      "text/plain": [
       "Processing Time Series:   0%|          | 0/1 [00:00<?, ?it/s]"
      ]
     },
     "metadata": {},
     "output_type": "display_data"
    },
    {
     "name": "stdout",
     "output_type": "stream",
     "text": [
      "  D2C (1 job) finished in 24.0413 seconds.\n",
      "Running D2C (50 jobs)...\n",
      "Running in single-threaded mode or managing parallelism manually.\n"
     ]
    },
    {
     "data": {
      "application/vnd.jupyter.widget-view+json": {
       "model_id": "caad3d5ef80c4308818e3ffdfd732d5f",
       "version_major": 2,
       "version_minor": 0
      },
      "text/plain": [
       "Processing Time Series:   0%|          | 0/1 [00:00<?, ?it/s]"
      ]
     },
     "metadata": {},
     "output_type": "display_data"
    },
    {
     "name": "stdout",
     "output_type": "stream",
     "text": [
      "Running descriptor computation in parallel with 50 jobs...\n"
     ]
    },
    {
     "data": {
      "application/vnd.jupyter.widget-view+json": {
       "model_id": "d26aef26d1974fbe9f295082ed4cfc99",
       "version_major": 2,
       "version_minor": 0
      },
      "text/plain": [
       "Computing Descriptors:   0%|          | 0/27 [00:00<?, ?it/s]"
      ]
     },
     "metadata": {},
     "output_type": "display_data"
    },
    {
     "name": "stdout",
     "output_type": "stream",
     "text": [
      "  D2C (50 jobs) finished in 2.5902 seconds.\n",
      "\n",
      "============================================================\n",
      "Benchmarking: 5 variables, Process ID\n",
      "============================================================\n",
      "Generating time series data...\n",
      "Running VAR...\n",
      "Running in single-threaded mode or managing parallelism manually.\n"
     ]
    },
    {
     "data": {
      "application/vnd.jupyter.widget-view+json": {
       "model_id": "38cab812e213469793496c3cbb1473b4",
       "version_major": 2,
       "version_minor": 0
      },
      "text/plain": [
       "Processing Time Series:   0%|          | 0/1 [00:00<?, ?it/s]"
      ]
     },
     "metadata": {},
     "output_type": "display_data"
    },
    {
     "name": "stdout",
     "output_type": "stream",
     "text": [
      "  VAR finished in 0.0198 seconds.\n",
      "Running VARLiNGAM...\n",
      "Running in single-threaded mode or managing parallelism manually.\n"
     ]
    },
    {
     "data": {
      "application/vnd.jupyter.widget-view+json": {
       "model_id": "b5ffeaedbd6444e7a227baa407a7deb0",
       "version_major": 2,
       "version_minor": 0
      },
      "text/plain": [
       "Processing Time Series:   0%|          | 0/1 [00:00<?, ?it/s]"
      ]
     },
     "metadata": {},
     "output_type": "display_data"
    },
    {
     "name": "stdout",
     "output_type": "stream",
     "text": [
      "  VARLiNGAM finished in 0.9751 seconds.\n",
      "Running Granger...\n",
      "Running in single-threaded mode or managing parallelism manually.\n"
     ]
    },
    {
     "data": {
      "application/vnd.jupyter.widget-view+json": {
       "model_id": "fa1a5031f4114951b22b6fd0b8d656ad",
       "version_major": 2,
       "version_minor": 0
      },
      "text/plain": [
       "Processing Time Series:   0%|          | 0/1 [00:00<?, ?it/s]"
      ]
     },
     "metadata": {},
     "output_type": "display_data"
    },
    {
     "name": "stderr",
     "output_type": "stream",
     "text": [
      "/home/gpaldino/miniconda3/envs/td2c/lib/python3.8/site-packages/statsmodels/tsa/stattools.py:1545: FutureWarning: verbose is deprecated since functions should not print results\n",
      "  warnings.warn(\n"
     ]
    },
    {
     "name": "stdout",
     "output_type": "stream",
     "text": [
      "  Granger finished in 0.2503 seconds.\n",
      "Running DYNOTEARS...\n",
      "Running in single-threaded mode or managing parallelism manually.\n"
     ]
    },
    {
     "data": {
      "application/vnd.jupyter.widget-view+json": {
       "model_id": "7baa6047d7bf45eabf777cd241d7c4ad",
       "version_major": 2,
       "version_minor": 0
      },
      "text/plain": [
       "Processing Time Series:   0%|          | 0/1 [00:00<?, ?it/s]"
      ]
     },
     "metadata": {},
     "output_type": "display_data"
    },
    {
     "name": "stdout",
     "output_type": "stream",
     "text": [
      "  DYNOTEARS finished in 0.0287 seconds.\n",
      "Running MultivariateGranger...\n",
      "Running in single-threaded mode or managing parallelism manually.\n"
     ]
    },
    {
     "name": "stderr",
     "output_type": "stream",
     "text": [
      "/home/gpaldino/miniconda3/envs/td2c/lib/python3.8/site-packages/causalnex/structure/transformers.py:198: FutureWarning: RangeIndex.is_integer is deprecated. Use pandas.api.types.is_integer_dtype instead.\n",
      "  if not t.index.is_integer():\n",
      "/home/gpaldino/miniconda3/envs/td2c/lib/python3.8/site-packages/causalnex/structure/transformers.py:198: FutureWarning: RangeIndex.is_integer is deprecated. Use pandas.api.types.is_integer_dtype instead.\n",
      "  if not t.index.is_integer():\n"
     ]
    },
    {
     "data": {
      "application/vnd.jupyter.widget-view+json": {
       "model_id": "e576c968ca054bd8a20ce91ec130d93f",
       "version_major": 2,
       "version_minor": 0
      },
      "text/plain": [
       "Processing Time Series:   0%|          | 0/1 [00:00<?, ?it/s]"
      ]
     },
     "metadata": {},
     "output_type": "display_data"
    },
    {
     "name": "stdout",
     "output_type": "stream",
     "text": [
      "  MultivariateGranger finished in 0.0733 seconds.\n",
      "Running PCMCI (ParCorr)...\n",
      "Running in single-threaded mode or managing parallelism manually.\n"
     ]
    },
    {
     "data": {
      "application/vnd.jupyter.widget-view+json": {
       "model_id": "f6bb482b998e4840a9e8771c20def1bf",
       "version_major": 2,
       "version_minor": 0
      },
      "text/plain": [
       "Processing Time Series:   0%|          | 0/1 [00:00<?, ?it/s]"
      ]
     },
     "metadata": {},
     "output_type": "display_data"
    },
    {
     "name": "stdout",
     "output_type": "stream",
     "text": [
      "  PCMCI (ParCorr) finished in 0.3091 seconds.\n",
      "Running PCMCI (GPDC)...\n",
      "Running in single-threaded mode or managing parallelism manually.\n"
     ]
    },
    {
     "data": {
      "application/vnd.jupyter.widget-view+json": {
       "model_id": "acbfac24211e4086b167e5a4cf8d7739",
       "version_major": 2,
       "version_minor": 0
      },
      "text/plain": [
       "Processing Time Series:   0%|          | 0/1 [00:00<?, ?it/s]"
      ]
     },
     "metadata": {},
     "output_type": "display_data"
    },
    {
     "name": "stdout",
     "output_type": "stream",
     "text": [
      "  PCMCI (GPDC) finished in 9.6429 seconds.\n",
      "Running D2C (1 job)...\n",
      "Running in single-threaded mode or managing parallelism manually.\n"
     ]
    },
    {
     "data": {
      "application/vnd.jupyter.widget-view+json": {
       "model_id": "c7414559d1ff4054a48c60213cebc335",
       "version_major": 2,
       "version_minor": 0
      },
      "text/plain": [
       "Processing Time Series:   0%|          | 0/1 [00:00<?, ?it/s]"
      ]
     },
     "metadata": {},
     "output_type": "display_data"
    },
    {
     "name": "stdout",
     "output_type": "stream",
     "text": [
      "  D2C (1 job) finished in 65.3138 seconds.\n",
      "Running D2C (50 jobs)...\n",
      "Running in single-threaded mode or managing parallelism manually.\n"
     ]
    },
    {
     "data": {
      "application/vnd.jupyter.widget-view+json": {
       "model_id": "4d673af9391347a78d67e7ee49c9e682",
       "version_major": 2,
       "version_minor": 0
      },
      "text/plain": [
       "Processing Time Series:   0%|          | 0/1 [00:00<?, ?it/s]"
      ]
     },
     "metadata": {},
     "output_type": "display_data"
    },
    {
     "name": "stdout",
     "output_type": "stream",
     "text": [
      "Running descriptor computation in parallel with 50 jobs...\n"
     ]
    },
    {
     "data": {
      "application/vnd.jupyter.widget-view+json": {
       "model_id": "7ba8677b4955443590d8dd887eaceabf",
       "version_major": 2,
       "version_minor": 0
      },
      "text/plain": [
       "Computing Descriptors:   0%|          | 0/75 [00:00<?, ?it/s]"
      ]
     },
     "metadata": {},
     "output_type": "display_data"
    },
    {
     "name": "stdout",
     "output_type": "stream",
     "text": [
      "  D2C (50 jobs) finished in 3.6557 seconds.\n",
      "\n",
      "============================================================\n",
      "Benchmarking: 10 variables, Process ID\n",
      "============================================================\n",
      "Generating time series data...\n",
      "Running VAR...\n",
      "Running in single-threaded mode or managing parallelism manually.\n"
     ]
    },
    {
     "data": {
      "application/vnd.jupyter.widget-view+json": {
       "model_id": "aed2028db8ab483c95a77285f9ecfb7b",
       "version_major": 2,
       "version_minor": 0
      },
      "text/plain": [
       "Processing Time Series:   0%|          | 0/1 [00:00<?, ?it/s]"
      ]
     },
     "metadata": {},
     "output_type": "display_data"
    },
    {
     "name": "stdout",
     "output_type": "stream",
     "text": [
      "  VAR finished in 0.0318 seconds.\n",
      "Running VARLiNGAM...\n",
      "Running in single-threaded mode or managing parallelism manually.\n"
     ]
    },
    {
     "data": {
      "application/vnd.jupyter.widget-view+json": {
       "model_id": "93e770c87c5d4cd5b8705589efa8b71d",
       "version_major": 2,
       "version_minor": 0
      },
      "text/plain": [
       "Processing Time Series:   0%|          | 0/1 [00:00<?, ?it/s]"
      ]
     },
     "metadata": {},
     "output_type": "display_data"
    },
    {
     "name": "stdout",
     "output_type": "stream",
     "text": [
      "  VARLiNGAM finished in 3.6659 seconds.\n",
      "Running Granger...\n",
      "Running in single-threaded mode or managing parallelism manually.\n"
     ]
    },
    {
     "data": {
      "application/vnd.jupyter.widget-view+json": {
       "model_id": "5d7decadb91f48f5a04cac5144396b53",
       "version_major": 2,
       "version_minor": 0
      },
      "text/plain": [
       "Processing Time Series:   0%|          | 0/1 [00:00<?, ?it/s]"
      ]
     },
     "metadata": {},
     "output_type": "display_data"
    },
    {
     "name": "stderr",
     "output_type": "stream",
     "text": [
      "/home/gpaldino/miniconda3/envs/td2c/lib/python3.8/site-packages/statsmodels/tsa/stattools.py:1545: FutureWarning: verbose is deprecated since functions should not print results\n",
      "  warnings.warn(\n"
     ]
    },
    {
     "name": "stdout",
     "output_type": "stream",
     "text": [
      "  Granger finished in 0.5124 seconds.\n",
      "Running DYNOTEARS...\n",
      "Running in single-threaded mode or managing parallelism manually.\n"
     ]
    },
    {
     "data": {
      "application/vnd.jupyter.widget-view+json": {
       "model_id": "2ed165b67a544c0d8e44c50baf8bad27",
       "version_major": 2,
       "version_minor": 0
      },
      "text/plain": [
       "Processing Time Series:   0%|          | 0/1 [00:00<?, ?it/s]"
      ]
     },
     "metadata": {},
     "output_type": "display_data"
    },
    {
     "name": "stdout",
     "output_type": "stream",
     "text": [
      "  DYNOTEARS finished in 0.0156 seconds.\n",
      "Running MultivariateGranger...\n",
      "Running in single-threaded mode or managing parallelism manually.\n"
     ]
    },
    {
     "name": "stderr",
     "output_type": "stream",
     "text": [
      "/home/gpaldino/miniconda3/envs/td2c/lib/python3.8/site-packages/causalnex/structure/transformers.py:198: FutureWarning: RangeIndex.is_integer is deprecated. Use pandas.api.types.is_integer_dtype instead.\n",
      "  if not t.index.is_integer():\n",
      "/home/gpaldino/miniconda3/envs/td2c/lib/python3.8/site-packages/causalnex/structure/transformers.py:198: FutureWarning: RangeIndex.is_integer is deprecated. Use pandas.api.types.is_integer_dtype instead.\n",
      "  if not t.index.is_integer():\n"
     ]
    },
    {
     "data": {
      "application/vnd.jupyter.widget-view+json": {
       "model_id": "bb24971d07134705b4387e6988ff7f75",
       "version_major": 2,
       "version_minor": 0
      },
      "text/plain": [
       "Processing Time Series:   0%|          | 0/1 [00:00<?, ?it/s]"
      ]
     },
     "metadata": {},
     "output_type": "display_data"
    },
    {
     "name": "stdout",
     "output_type": "stream",
     "text": [
      "  MultivariateGranger finished in 0.1464 seconds.\n",
      "Running PCMCI (ParCorr)...\n",
      "Running in single-threaded mode or managing parallelism manually.\n"
     ]
    },
    {
     "data": {
      "application/vnd.jupyter.widget-view+json": {
       "model_id": "afce33dd76ee4e2ebd0717ce941fe477",
       "version_major": 2,
       "version_minor": 0
      },
      "text/plain": [
       "Processing Time Series:   0%|          | 0/1 [00:00<?, ?it/s]"
      ]
     },
     "metadata": {},
     "output_type": "display_data"
    },
    {
     "name": "stdout",
     "output_type": "stream",
     "text": [
      "  PCMCI (ParCorr) finished in 0.6446 seconds.\n",
      "Running PCMCI (GPDC)...\n",
      "Running in single-threaded mode or managing parallelism manually.\n"
     ]
    },
    {
     "data": {
      "application/vnd.jupyter.widget-view+json": {
       "model_id": "57fd4a33357743ee9702cdce24fd5b22",
       "version_major": 2,
       "version_minor": 0
      },
      "text/plain": [
       "Processing Time Series:   0%|          | 0/1 [00:00<?, ?it/s]"
      ]
     },
     "metadata": {},
     "output_type": "display_data"
    },
    {
     "name": "stdout",
     "output_type": "stream",
     "text": [
      "  PCMCI (GPDC) finished in 36.5626 seconds.\n",
      "Running D2C (1 job)...\n",
      "Running in single-threaded mode or managing parallelism manually.\n"
     ]
    },
    {
     "data": {
      "application/vnd.jupyter.widget-view+json": {
       "model_id": "e2c1eef622434a49a8c2a1cb3b730398",
       "version_major": 2,
       "version_minor": 0
      },
      "text/plain": [
       "Processing Time Series:   0%|          | 0/1 [00:00<?, ?it/s]"
      ]
     },
     "metadata": {},
     "output_type": "display_data"
    },
    {
     "name": "stdout",
     "output_type": "stream",
     "text": [
      "  D2C (1 job) finished in 263.0300 seconds.\n",
      "Running D2C (50 jobs)...\n",
      "Running in single-threaded mode or managing parallelism manually.\n"
     ]
    },
    {
     "data": {
      "application/vnd.jupyter.widget-view+json": {
       "model_id": "212f7a3f75734971aa4fc7dde91b73d0",
       "version_major": 2,
       "version_minor": 0
      },
      "text/plain": [
       "Processing Time Series:   0%|          | 0/1 [00:00<?, ?it/s]"
      ]
     },
     "metadata": {},
     "output_type": "display_data"
    },
    {
     "name": "stdout",
     "output_type": "stream",
     "text": [
      "Running descriptor computation in parallel with 50 jobs...\n"
     ]
    },
    {
     "data": {
      "application/vnd.jupyter.widget-view+json": {
       "model_id": "5ce818cc2706449191c1853ab25656d5",
       "version_major": 2,
       "version_minor": 0
      },
      "text/plain": [
       "Computing Descriptors:   0%|          | 0/300 [00:00<?, ?it/s]"
      ]
     },
     "metadata": {},
     "output_type": "display_data"
    },
    {
     "name": "stdout",
     "output_type": "stream",
     "text": [
      "  D2C (50 jobs) finished in 10.5584 seconds.\n",
      "\n",
      "============================================================\n",
      "Benchmarking: 15 variables, Process ID\n",
      "============================================================\n",
      "Generating time series data...\n",
      "Running VAR...\n",
      "Running in single-threaded mode or managing parallelism manually.\n"
     ]
    },
    {
     "data": {
      "application/vnd.jupyter.widget-view+json": {
       "model_id": "e30d600fd04c44b4940e66ba5dc98de9",
       "version_major": 2,
       "version_minor": 0
      },
      "text/plain": [
       "Processing Time Series:   0%|          | 0/1 [00:00<?, ?it/s]"
      ]
     },
     "metadata": {},
     "output_type": "display_data"
    },
    {
     "name": "stdout",
     "output_type": "stream",
     "text": [
      "  VAR finished in 0.0563 seconds.\n",
      "Running VARLiNGAM...\n",
      "Running in single-threaded mode or managing parallelism manually.\n"
     ]
    },
    {
     "data": {
      "application/vnd.jupyter.widget-view+json": {
       "model_id": "2afd96c7299348f58fcb3bfe92b3a9f6",
       "version_major": 2,
       "version_minor": 0
      },
      "text/plain": [
       "Processing Time Series:   0%|          | 0/1 [00:00<?, ?it/s]"
      ]
     },
     "metadata": {},
     "output_type": "display_data"
    },
    {
     "name": "stdout",
     "output_type": "stream",
     "text": [
      "  VARLiNGAM finished in 10.8028 seconds.\n",
      "Running Granger...\n",
      "Running in single-threaded mode or managing parallelism manually.\n"
     ]
    },
    {
     "data": {
      "application/vnd.jupyter.widget-view+json": {
       "model_id": "204171f928b74cebbafbd8ddd12b3781",
       "version_major": 2,
       "version_minor": 0
      },
      "text/plain": [
       "Processing Time Series:   0%|          | 0/1 [00:00<?, ?it/s]"
      ]
     },
     "metadata": {},
     "output_type": "display_data"
    },
    {
     "name": "stderr",
     "output_type": "stream",
     "text": [
      "/home/gpaldino/miniconda3/envs/td2c/lib/python3.8/site-packages/statsmodels/tsa/stattools.py:1545: FutureWarning: verbose is deprecated since functions should not print results\n",
      "  warnings.warn(\n"
     ]
    },
    {
     "name": "stdout",
     "output_type": "stream",
     "text": [
      "  Granger finished in 1.1842 seconds.\n",
      "Running DYNOTEARS...\n",
      "Running in single-threaded mode or managing parallelism manually.\n"
     ]
    },
    {
     "data": {
      "application/vnd.jupyter.widget-view+json": {
       "model_id": "69591e240c8b4251aecb3f27b61793fa",
       "version_major": 2,
       "version_minor": 0
      },
      "text/plain": [
       "Processing Time Series:   0%|          | 0/1 [00:00<?, ?it/s]"
      ]
     },
     "metadata": {},
     "output_type": "display_data"
    },
    {
     "name": "stdout",
     "output_type": "stream",
     "text": [
      "  DYNOTEARS finished in 0.0258 seconds.\n",
      "Running MultivariateGranger...\n",
      "Running in single-threaded mode or managing parallelism manually.\n"
     ]
    },
    {
     "name": "stderr",
     "output_type": "stream",
     "text": [
      "/home/gpaldino/miniconda3/envs/td2c/lib/python3.8/site-packages/causalnex/structure/transformers.py:198: FutureWarning: RangeIndex.is_integer is deprecated. Use pandas.api.types.is_integer_dtype instead.\n",
      "  if not t.index.is_integer():\n",
      "/home/gpaldino/miniconda3/envs/td2c/lib/python3.8/site-packages/causalnex/structure/transformers.py:198: FutureWarning: RangeIndex.is_integer is deprecated. Use pandas.api.types.is_integer_dtype instead.\n",
      "  if not t.index.is_integer():\n"
     ]
    },
    {
     "data": {
      "application/vnd.jupyter.widget-view+json": {
       "model_id": "d68a34cbdc9242a682655252e19197df",
       "version_major": 2,
       "version_minor": 0
      },
      "text/plain": [
       "Processing Time Series:   0%|          | 0/1 [00:00<?, ?it/s]"
      ]
     },
     "metadata": {},
     "output_type": "display_data"
    },
    {
     "name": "stdout",
     "output_type": "stream",
     "text": [
      "  MultivariateGranger finished in 0.4885 seconds.\n",
      "Running PCMCI (ParCorr)...\n",
      "Running in single-threaded mode or managing parallelism manually.\n"
     ]
    },
    {
     "data": {
      "application/vnd.jupyter.widget-view+json": {
       "model_id": "96d394725c58472a81862e1525890ba0",
       "version_major": 2,
       "version_minor": 0
      },
      "text/plain": [
       "Processing Time Series:   0%|          | 0/1 [00:00<?, ?it/s]"
      ]
     },
     "metadata": {},
     "output_type": "display_data"
    },
    {
     "name": "stdout",
     "output_type": "stream",
     "text": [
      "  PCMCI (ParCorr) finished in 1.3987 seconds.\n",
      "Running PCMCI (GPDC)...\n",
      "Running in single-threaded mode or managing parallelism manually.\n"
     ]
    },
    {
     "data": {
      "application/vnd.jupyter.widget-view+json": {
       "model_id": "a826e6fd82a446aaa800b35fc159f3fc",
       "version_major": 2,
       "version_minor": 0
      },
      "text/plain": [
       "Processing Time Series:   0%|          | 0/1 [00:00<?, ?it/s]"
      ]
     },
     "metadata": {},
     "output_type": "display_data"
    },
    {
     "name": "stderr",
     "output_type": "stream",
     "text": [
      "/home/gpaldino/miniconda3/envs/td2c/lib/python3.8/site-packages/sklearn/gaussian_process/kernels.py:429: ConvergenceWarning: The optimal value found for dimension 0 of parameter k1__length_scale is close to the specified upper bound 100000.0. Increasing the bound and calling fit again may find a better value.\n",
      "  warnings.warn(\n",
      "/home/gpaldino/miniconda3/envs/td2c/lib/python3.8/site-packages/sklearn/gaussian_process/kernels.py:429: ConvergenceWarning: The optimal value found for dimension 0 of parameter k1__length_scale is close to the specified upper bound 100000.0. Increasing the bound and calling fit again may find a better value.\n",
      "  warnings.warn(\n",
      "/home/gpaldino/miniconda3/envs/td2c/lib/python3.8/site-packages/sklearn/gaussian_process/kernels.py:419: ConvergenceWarning: The optimal value found for dimension 0 of parameter k2__noise_level is close to the specified lower bound 1e-05. Decreasing the bound and calling fit again may find a better value.\n",
      "  warnings.warn(\n",
      "/home/gpaldino/miniconda3/envs/td2c/lib/python3.8/site-packages/sklearn/gaussian_process/kernels.py:419: ConvergenceWarning: The optimal value found for dimension 0 of parameter k1__length_scale is close to the specified lower bound 1e-05. Decreasing the bound and calling fit again may find a better value.\n",
      "  warnings.warn(\n"
     ]
    },
    {
     "name": "stdout",
     "output_type": "stream",
     "text": [
      "  PCMCI (GPDC) finished in 66.6069 seconds.\n",
      "Running D2C (1 job)...\n",
      "Running in single-threaded mode or managing parallelism manually.\n"
     ]
    },
    {
     "data": {
      "application/vnd.jupyter.widget-view+json": {
       "model_id": "ed7b48abab8747818876ff803ecd4c9d",
       "version_major": 2,
       "version_minor": 0
      },
      "text/plain": [
       "Processing Time Series:   0%|          | 0/1 [00:00<?, ?it/s]"
      ]
     },
     "metadata": {},
     "output_type": "display_data"
    },
    {
     "name": "stdout",
     "output_type": "stream",
     "text": [
      "  D2C (1 job) finished in 612.1344 seconds.\n",
      "Running D2C (50 jobs)...\n",
      "Running in single-threaded mode or managing parallelism manually.\n"
     ]
    },
    {
     "data": {
      "application/vnd.jupyter.widget-view+json": {
       "model_id": "55c839ac3321468a922d4463be861ae2",
       "version_major": 2,
       "version_minor": 0
      },
      "text/plain": [
       "Processing Time Series:   0%|          | 0/1 [00:00<?, ?it/s]"
      ]
     },
     "metadata": {},
     "output_type": "display_data"
    },
    {
     "name": "stdout",
     "output_type": "stream",
     "text": [
      "Running descriptor computation in parallel with 50 jobs...\n"
     ]
    },
    {
     "data": {
      "application/vnd.jupyter.widget-view+json": {
       "model_id": "5f48fe47bb204ea4a1bba1bb5a58c85d",
       "version_major": 2,
       "version_minor": 0
      },
      "text/plain": [
       "Computing Descriptors:   0%|          | 0/675 [00:00<?, ?it/s]"
      ]
     },
     "metadata": {},
     "output_type": "display_data"
    },
    {
     "name": "stdout",
     "output_type": "stream",
     "text": [
      "  D2C (50 jobs) finished in 39.2823 seconds.\n",
      "\n",
      "============================================================\n",
      "Benchmarking: 20 variables, Process ID\n",
      "============================================================\n",
      "Generating time series data...\n",
      "Running VAR...\n",
      "Running in single-threaded mode or managing parallelism manually.\n"
     ]
    },
    {
     "data": {
      "application/vnd.jupyter.widget-view+json": {
       "model_id": "e273d855305f4ccdaa4a0f0166e8a437",
       "version_major": 2,
       "version_minor": 0
      },
      "text/plain": [
       "Processing Time Series:   0%|          | 0/1 [00:00<?, ?it/s]"
      ]
     },
     "metadata": {},
     "output_type": "display_data"
    },
    {
     "name": "stdout",
     "output_type": "stream",
     "text": [
      "  VAR finished in 0.1573 seconds.\n",
      "Running VARLiNGAM...\n",
      "Running in single-threaded mode or managing parallelism manually.\n"
     ]
    },
    {
     "data": {
      "application/vnd.jupyter.widget-view+json": {
       "model_id": "61348a7b2b0c4ce7aafdfe31719b6ffb",
       "version_major": 2,
       "version_minor": 0
      },
      "text/plain": [
       "Processing Time Series:   0%|          | 0/1 [00:00<?, ?it/s]"
      ]
     },
     "metadata": {},
     "output_type": "display_data"
    },
    {
     "name": "stdout",
     "output_type": "stream",
     "text": [
      "  VARLiNGAM finished in 51.5208 seconds.\n",
      "Running Granger...\n",
      "Running in single-threaded mode or managing parallelism manually.\n"
     ]
    },
    {
     "data": {
      "application/vnd.jupyter.widget-view+json": {
       "model_id": "8ec96f5bf73e44a28a1b5d457e2ccc0a",
       "version_major": 2,
       "version_minor": 0
      },
      "text/plain": [
       "Processing Time Series:   0%|          | 0/1 [00:00<?, ?it/s]"
      ]
     },
     "metadata": {},
     "output_type": "display_data"
    },
    {
     "name": "stderr",
     "output_type": "stream",
     "text": [
      "/home/gpaldino/miniconda3/envs/td2c/lib/python3.8/site-packages/statsmodels/tsa/stattools.py:1545: FutureWarning: verbose is deprecated since functions should not print results\n",
      "  warnings.warn(\n"
     ]
    },
    {
     "name": "stdout",
     "output_type": "stream",
     "text": [
      "  Granger finished in 2.2922 seconds.\n",
      "Running DYNOTEARS...\n",
      "Running in single-threaded mode or managing parallelism manually.\n"
     ]
    },
    {
     "data": {
      "application/vnd.jupyter.widget-view+json": {
       "model_id": "2a9e1e5d7cad42bf869804c5e42f18d9",
       "version_major": 2,
       "version_minor": 0
      },
      "text/plain": [
       "Processing Time Series:   0%|          | 0/1 [00:00<?, ?it/s]"
      ]
     },
     "metadata": {},
     "output_type": "display_data"
    },
    {
     "name": "stdout",
     "output_type": "stream",
     "text": [
      "  DYNOTEARS finished in 0.0226 seconds.\n",
      "Running MultivariateGranger...\n",
      "Running in single-threaded mode or managing parallelism manually.\n"
     ]
    },
    {
     "name": "stderr",
     "output_type": "stream",
     "text": [
      "/home/gpaldino/miniconda3/envs/td2c/lib/python3.8/site-packages/causalnex/structure/transformers.py:198: FutureWarning: RangeIndex.is_integer is deprecated. Use pandas.api.types.is_integer_dtype instead.\n",
      "  if not t.index.is_integer():\n",
      "/home/gpaldino/miniconda3/envs/td2c/lib/python3.8/site-packages/causalnex/structure/transformers.py:198: FutureWarning: RangeIndex.is_integer is deprecated. Use pandas.api.types.is_integer_dtype instead.\n",
      "  if not t.index.is_integer():\n"
     ]
    },
    {
     "data": {
      "application/vnd.jupyter.widget-view+json": {
       "model_id": "117cb619bee841fd8b69e06f51dce269",
       "version_major": 2,
       "version_minor": 0
      },
      "text/plain": [
       "Processing Time Series:   0%|          | 0/1 [00:00<?, ?it/s]"
      ]
     },
     "metadata": {},
     "output_type": "display_data"
    },
    {
     "name": "stdout",
     "output_type": "stream",
     "text": [
      "  MultivariateGranger finished in 1.8167 seconds.\n",
      "Running PCMCI (ParCorr)...\n",
      "Running in single-threaded mode or managing parallelism manually.\n"
     ]
    },
    {
     "data": {
      "application/vnd.jupyter.widget-view+json": {
       "model_id": "098e924495ab4004ab6aed4d6cc11d11",
       "version_major": 2,
       "version_minor": 0
      },
      "text/plain": [
       "Processing Time Series:   0%|          | 0/1 [00:00<?, ?it/s]"
      ]
     },
     "metadata": {},
     "output_type": "display_data"
    },
    {
     "name": "stdout",
     "output_type": "stream",
     "text": [
      "  PCMCI (ParCorr) finished in 2.6986 seconds.\n",
      "Running PCMCI (GPDC)...\n",
      "Running in single-threaded mode or managing parallelism manually.\n"
     ]
    },
    {
     "data": {
      "application/vnd.jupyter.widget-view+json": {
       "model_id": "267aa7ac05794013950816f568927007",
       "version_major": 2,
       "version_minor": 0
      },
      "text/plain": [
       "Processing Time Series:   0%|          | 0/1 [00:00<?, ?it/s]"
      ]
     },
     "metadata": {},
     "output_type": "display_data"
    },
    {
     "name": "stderr",
     "output_type": "stream",
     "text": [
      "/home/gpaldino/miniconda3/envs/td2c/lib/python3.8/site-packages/sklearn/gaussian_process/kernels.py:429: ConvergenceWarning: The optimal value found for dimension 0 of parameter k1__length_scale is close to the specified upper bound 100000.0. Increasing the bound and calling fit again may find a better value.\n",
      "  warnings.warn(\n",
      "/home/gpaldino/miniconda3/envs/td2c/lib/python3.8/site-packages/sklearn/gaussian_process/kernels.py:429: ConvergenceWarning: The optimal value found for dimension 0 of parameter k1__length_scale is close to the specified upper bound 100000.0. Increasing the bound and calling fit again may find a better value.\n",
      "  warnings.warn(\n",
      "/home/gpaldino/miniconda3/envs/td2c/lib/python3.8/site-packages/sklearn/gaussian_process/kernels.py:419: ConvergenceWarning: The optimal value found for dimension 0 of parameter k1__length_scale is close to the specified lower bound 1e-05. Decreasing the bound and calling fit again may find a better value.\n",
      "  warnings.warn(\n",
      "/home/gpaldino/miniconda3/envs/td2c/lib/python3.8/site-packages/sklearn/gaussian_process/kernels.py:419: ConvergenceWarning: The optimal value found for dimension 0 of parameter k1__length_scale is close to the specified lower bound 1e-05. Decreasing the bound and calling fit again may find a better value.\n",
      "  warnings.warn(\n",
      "/home/gpaldino/miniconda3/envs/td2c/lib/python3.8/site-packages/sklearn/gaussian_process/kernels.py:419: ConvergenceWarning: The optimal value found for dimension 0 of parameter k1__length_scale is close to the specified lower bound 1e-05. Decreasing the bound and calling fit again may find a better value.\n",
      "  warnings.warn(\n",
      "/home/gpaldino/miniconda3/envs/td2c/lib/python3.8/site-packages/sklearn/gaussian_process/kernels.py:419: ConvergenceWarning: The optimal value found for dimension 0 of parameter k1__length_scale is close to the specified lower bound 1e-05. Decreasing the bound and calling fit again may find a better value.\n",
      "  warnings.warn(\n",
      "/home/gpaldino/miniconda3/envs/td2c/lib/python3.8/site-packages/sklearn/gaussian_process/kernels.py:419: ConvergenceWarning: The optimal value found for dimension 0 of parameter k2__noise_level is close to the specified lower bound 1e-05. Decreasing the bound and calling fit again may find a better value.\n",
      "  warnings.warn(\n",
      "/home/gpaldino/miniconda3/envs/td2c/lib/python3.8/site-packages/sklearn/gaussian_process/kernels.py:419: ConvergenceWarning: The optimal value found for dimension 0 of parameter k2__noise_level is close to the specified lower bound 1e-05. Decreasing the bound and calling fit again may find a better value.\n",
      "  warnings.warn(\n",
      "/home/gpaldino/miniconda3/envs/td2c/lib/python3.8/site-packages/sklearn/gaussian_process/kernels.py:419: ConvergenceWarning: The optimal value found for dimension 0 of parameter k1__length_scale is close to the specified lower bound 1e-05. Decreasing the bound and calling fit again may find a better value.\n",
      "  warnings.warn(\n",
      "/home/gpaldino/miniconda3/envs/td2c/lib/python3.8/site-packages/sklearn/gaussian_process/kernels.py:419: ConvergenceWarning: The optimal value found for dimension 0 of parameter k2__noise_level is close to the specified lower bound 1e-05. Decreasing the bound and calling fit again may find a better value.\n",
      "  warnings.warn(\n"
     ]
    },
    {
     "name": "stdout",
     "output_type": "stream",
     "text": [
      "  PCMCI (GPDC) finished in 135.9667 seconds.\n",
      "Running D2C (1 job)...\n",
      "Running in single-threaded mode or managing parallelism manually.\n"
     ]
    },
    {
     "data": {
      "application/vnd.jupyter.widget-view+json": {
       "model_id": "09e9c297e5ed4a898e87a6b54ad1f422",
       "version_major": 2,
       "version_minor": 0
      },
      "text/plain": [
       "Processing Time Series:   0%|          | 0/1 [00:00<?, ?it/s]"
      ]
     },
     "metadata": {},
     "output_type": "display_data"
    },
    {
     "name": "stdout",
     "output_type": "stream",
     "text": [
      "  D2C (1 job) finished in 1088.6404 seconds.\n",
      "Running D2C (50 jobs)...\n",
      "Running in single-threaded mode or managing parallelism manually.\n"
     ]
    },
    {
     "data": {
      "application/vnd.jupyter.widget-view+json": {
       "model_id": "5a106caf30a14ebb873d17fdcaca4633",
       "version_major": 2,
       "version_minor": 0
      },
      "text/plain": [
       "Processing Time Series:   0%|          | 0/1 [00:00<?, ?it/s]"
      ]
     },
     "metadata": {},
     "output_type": "display_data"
    },
    {
     "name": "stdout",
     "output_type": "stream",
     "text": [
      "Running descriptor computation in parallel with 50 jobs...\n"
     ]
    },
    {
     "data": {
      "application/vnd.jupyter.widget-view+json": {
       "model_id": "f567550d4ca249d7ac6e759d00b90fbd",
       "version_major": 2,
       "version_minor": 0
      },
      "text/plain": [
       "Computing Descriptors:   0%|          | 0/1200 [00:00<?, ?it/s]"
      ]
     },
     "metadata": {},
     "output_type": "display_data"
    },
    {
     "name": "stdout",
     "output_type": "stream",
     "text": [
      "  D2C (50 jobs) finished in 38.9322 seconds.\n",
      "\n",
      "============================================================\n",
      "Benchmarking: 25 variables, Process ID\n",
      "============================================================\n",
      "Generating time series data...\n",
      "Running VAR...\n",
      "Running in single-threaded mode or managing parallelism manually.\n"
     ]
    },
    {
     "data": {
      "application/vnd.jupyter.widget-view+json": {
       "model_id": "ecbfd2bdb70245788b1ee7df41cb893c",
       "version_major": 2,
       "version_minor": 0
      },
      "text/plain": [
       "Processing Time Series:   0%|          | 0/1 [00:00<?, ?it/s]"
      ]
     },
     "metadata": {},
     "output_type": "display_data"
    },
    {
     "name": "stdout",
     "output_type": "stream",
     "text": [
      "  VAR finished in 0.1411 seconds.\n",
      "Running VARLiNGAM...\n",
      "Running in single-threaded mode or managing parallelism manually.\n"
     ]
    },
    {
     "data": {
      "application/vnd.jupyter.widget-view+json": {
       "model_id": "16855a04a741450ca19c0a3502b1704c",
       "version_major": 2,
       "version_minor": 0
      },
      "text/plain": [
       "Processing Time Series:   0%|          | 0/1 [00:00<?, ?it/s]"
      ]
     },
     "metadata": {},
     "output_type": "display_data"
    },
    {
     "name": "stdout",
     "output_type": "stream",
     "text": [
      "  VARLiNGAM finished in 342.9966 seconds.\n",
      "Running Granger...\n",
      "Running in single-threaded mode or managing parallelism manually.\n"
     ]
    },
    {
     "data": {
      "application/vnd.jupyter.widget-view+json": {
       "model_id": "cca6f874830c4631b424c581e2cdaae9",
       "version_major": 2,
       "version_minor": 0
      },
      "text/plain": [
       "Processing Time Series:   0%|          | 0/1 [00:00<?, ?it/s]"
      ]
     },
     "metadata": {},
     "output_type": "display_data"
    },
    {
     "name": "stderr",
     "output_type": "stream",
     "text": [
      "/home/gpaldino/miniconda3/envs/td2c/lib/python3.8/site-packages/statsmodels/tsa/stattools.py:1545: FutureWarning: verbose is deprecated since functions should not print results\n",
      "  warnings.warn(\n"
     ]
    },
    {
     "name": "stdout",
     "output_type": "stream",
     "text": [
      "  Granger finished in 2.9816 seconds.\n",
      "Running DYNOTEARS...\n",
      "Running in single-threaded mode or managing parallelism manually.\n"
     ]
    },
    {
     "data": {
      "application/vnd.jupyter.widget-view+json": {
       "model_id": "ff4e35525c684ecaac99005d28efd3c5",
       "version_major": 2,
       "version_minor": 0
      },
      "text/plain": [
       "Processing Time Series:   0%|          | 0/1 [00:00<?, ?it/s]"
      ]
     },
     "metadata": {},
     "output_type": "display_data"
    },
    {
     "name": "stdout",
     "output_type": "stream",
     "text": [
      "  DYNOTEARS finished in 0.0251 seconds.\n",
      "Running MultivariateGranger...\n",
      "Running in single-threaded mode or managing parallelism manually.\n"
     ]
    },
    {
     "name": "stderr",
     "output_type": "stream",
     "text": [
      "/home/gpaldino/miniconda3/envs/td2c/lib/python3.8/site-packages/causalnex/structure/transformers.py:198: FutureWarning: RangeIndex.is_integer is deprecated. Use pandas.api.types.is_integer_dtype instead.\n",
      "  if not t.index.is_integer():\n",
      "/home/gpaldino/miniconda3/envs/td2c/lib/python3.8/site-packages/causalnex/structure/transformers.py:198: FutureWarning: RangeIndex.is_integer is deprecated. Use pandas.api.types.is_integer_dtype instead.\n",
      "  if not t.index.is_integer():\n"
     ]
    },
    {
     "data": {
      "application/vnd.jupyter.widget-view+json": {
       "model_id": "11914bc08834487a88d360203dd2a6fd",
       "version_major": 2,
       "version_minor": 0
      },
      "text/plain": [
       "Processing Time Series:   0%|          | 0/1 [00:00<?, ?it/s]"
      ]
     },
     "metadata": {},
     "output_type": "display_data"
    },
    {
     "name": "stdout",
     "output_type": "stream",
     "text": [
      "  MultivariateGranger finished in 6.1270 seconds.\n",
      "Running PCMCI (ParCorr)...\n",
      "Running in single-threaded mode or managing parallelism manually.\n"
     ]
    },
    {
     "data": {
      "application/vnd.jupyter.widget-view+json": {
       "model_id": "8c90cac79977474686cf3c231950c629",
       "version_major": 2,
       "version_minor": 0
      },
      "text/plain": [
       "Processing Time Series:   0%|          | 0/1 [00:00<?, ?it/s]"
      ]
     },
     "metadata": {},
     "output_type": "display_data"
    },
    {
     "name": "stdout",
     "output_type": "stream",
     "text": [
      "  PCMCI (ParCorr) finished in 3.7770 seconds.\n",
      "Running PCMCI (GPDC)...\n",
      "Running in single-threaded mode or managing parallelism manually.\n"
     ]
    },
    {
     "data": {
      "application/vnd.jupyter.widget-view+json": {
       "model_id": "838a9915dbcb4e5f94dc7d9462afc977",
       "version_major": 2,
       "version_minor": 0
      },
      "text/plain": [
       "Processing Time Series:   0%|          | 0/1 [00:00<?, ?it/s]"
      ]
     },
     "metadata": {},
     "output_type": "display_data"
    },
    {
     "name": "stderr",
     "output_type": "stream",
     "text": [
      "/home/gpaldino/miniconda3/envs/td2c/lib/python3.8/site-packages/sklearn/gaussian_process/kernels.py:429: ConvergenceWarning: The optimal value found for dimension 0 of parameter k1__length_scale is close to the specified upper bound 100000.0. Increasing the bound and calling fit again may find a better value.\n",
      "  warnings.warn(\n",
      "/home/gpaldino/miniconda3/envs/td2c/lib/python3.8/site-packages/sklearn/gaussian_process/kernels.py:419: ConvergenceWarning: The optimal value found for dimension 0 of parameter k1__length_scale is close to the specified lower bound 1e-05. Decreasing the bound and calling fit again may find a better value.\n",
      "  warnings.warn(\n",
      "/home/gpaldino/miniconda3/envs/td2c/lib/python3.8/site-packages/sklearn/gaussian_process/kernels.py:429: ConvergenceWarning: The optimal value found for dimension 0 of parameter k1__length_scale is close to the specified upper bound 100000.0. Increasing the bound and calling fit again may find a better value.\n",
      "  warnings.warn(\n",
      "/home/gpaldino/miniconda3/envs/td2c/lib/python3.8/site-packages/sklearn/gaussian_process/kernels.py:429: ConvergenceWarning: The optimal value found for dimension 0 of parameter k1__length_scale is close to the specified upper bound 100000.0. Increasing the bound and calling fit again may find a better value.\n",
      "  warnings.warn(\n",
      "/home/gpaldino/miniconda3/envs/td2c/lib/python3.8/site-packages/sklearn/gaussian_process/kernels.py:429: ConvergenceWarning: The optimal value found for dimension 0 of parameter k1__length_scale is close to the specified upper bound 100000.0. Increasing the bound and calling fit again may find a better value.\n",
      "  warnings.warn(\n",
      "/home/gpaldino/miniconda3/envs/td2c/lib/python3.8/site-packages/sklearn/gaussian_process/kernels.py:419: ConvergenceWarning: The optimal value found for dimension 0 of parameter k1__length_scale is close to the specified lower bound 1e-05. Decreasing the bound and calling fit again may find a better value.\n",
      "  warnings.warn(\n",
      "/home/gpaldino/miniconda3/envs/td2c/lib/python3.8/site-packages/sklearn/gaussian_process/kernels.py:419: ConvergenceWarning: The optimal value found for dimension 0 of parameter k2__noise_level is close to the specified lower bound 1e-05. Decreasing the bound and calling fit again may find a better value.\n",
      "  warnings.warn(\n",
      "/home/gpaldino/miniconda3/envs/td2c/lib/python3.8/site-packages/sklearn/gaussian_process/kernels.py:429: ConvergenceWarning: The optimal value found for dimension 0 of parameter k1__length_scale is close to the specified upper bound 100000.0. Increasing the bound and calling fit again may find a better value.\n",
      "  warnings.warn(\n",
      "/home/gpaldino/miniconda3/envs/td2c/lib/python3.8/site-packages/sklearn/gaussian_process/kernels.py:419: ConvergenceWarning: The optimal value found for dimension 0 of parameter k2__noise_level is close to the specified lower bound 1e-05. Decreasing the bound and calling fit again may find a better value.\n",
      "  warnings.warn(\n",
      "/home/gpaldino/miniconda3/envs/td2c/lib/python3.8/site-packages/sklearn/gaussian_process/kernels.py:419: ConvergenceWarning: The optimal value found for dimension 0 of parameter k2__noise_level is close to the specified lower bound 1e-05. Decreasing the bound and calling fit again may find a better value.\n",
      "  warnings.warn(\n",
      "/home/gpaldino/miniconda3/envs/td2c/lib/python3.8/site-packages/sklearn/gaussian_process/kernels.py:419: ConvergenceWarning: The optimal value found for dimension 0 of parameter k2__noise_level is close to the specified lower bound 1e-05. Decreasing the bound and calling fit again may find a better value.\n",
      "  warnings.warn(\n",
      "/home/gpaldino/miniconda3/envs/td2c/lib/python3.8/site-packages/sklearn/gaussian_process/kernels.py:419: ConvergenceWarning: The optimal value found for dimension 0 of parameter k1__length_scale is close to the specified lower bound 1e-05. Decreasing the bound and calling fit again may find a better value.\n",
      "  warnings.warn(\n",
      "/home/gpaldino/miniconda3/envs/td2c/lib/python3.8/site-packages/sklearn/gaussian_process/kernels.py:419: ConvergenceWarning: The optimal value found for dimension 0 of parameter k1__length_scale is close to the specified lower bound 1e-05. Decreasing the bound and calling fit again may find a better value.\n",
      "  warnings.warn(\n",
      "/home/gpaldino/miniconda3/envs/td2c/lib/python3.8/site-packages/sklearn/gaussian_process/kernels.py:419: ConvergenceWarning: The optimal value found for dimension 0 of parameter k2__noise_level is close to the specified lower bound 1e-05. Decreasing the bound and calling fit again may find a better value.\n",
      "  warnings.warn(\n",
      "/home/gpaldino/miniconda3/envs/td2c/lib/python3.8/site-packages/sklearn/gaussian_process/kernels.py:419: ConvergenceWarning: The optimal value found for dimension 0 of parameter k1__length_scale is close to the specified lower bound 1e-05. Decreasing the bound and calling fit again may find a better value.\n",
      "  warnings.warn(\n",
      "/home/gpaldino/miniconda3/envs/td2c/lib/python3.8/site-packages/sklearn/gaussian_process/kernels.py:419: ConvergenceWarning: The optimal value found for dimension 0 of parameter k2__noise_level is close to the specified lower bound 1e-05. Decreasing the bound and calling fit again may find a better value.\n",
      "  warnings.warn(\n",
      "/home/gpaldino/miniconda3/envs/td2c/lib/python3.8/site-packages/sklearn/gaussian_process/kernels.py:419: ConvergenceWarning: The optimal value found for dimension 0 of parameter k1__length_scale is close to the specified lower bound 1e-05. Decreasing the bound and calling fit again may find a better value.\n",
      "  warnings.warn(\n",
      "/home/gpaldino/miniconda3/envs/td2c/lib/python3.8/site-packages/sklearn/gaussian_process/kernels.py:419: ConvergenceWarning: The optimal value found for dimension 0 of parameter k2__noise_level is close to the specified lower bound 1e-05. Decreasing the bound and calling fit again may find a better value.\n",
      "  warnings.warn(\n",
      "/home/gpaldino/miniconda3/envs/td2c/lib/python3.8/site-packages/sklearn/gaussian_process/kernels.py:419: ConvergenceWarning: The optimal value found for dimension 0 of parameter k2__noise_level is close to the specified lower bound 1e-05. Decreasing the bound and calling fit again may find a better value.\n",
      "  warnings.warn(\n",
      "/home/gpaldino/miniconda3/envs/td2c/lib/python3.8/site-packages/sklearn/gaussian_process/kernels.py:419: ConvergenceWarning: The optimal value found for dimension 0 of parameter k2__noise_level is close to the specified lower bound 1e-05. Decreasing the bound and calling fit again may find a better value.\n",
      "  warnings.warn(\n"
     ]
    },
    {
     "name": "stdout",
     "output_type": "stream",
     "text": [
      "  PCMCI (GPDC) finished in 191.0618 seconds.\n",
      "Running D2C (1 job)...\n",
      "Running in single-threaded mode or managing parallelism manually.\n"
     ]
    },
    {
     "data": {
      "application/vnd.jupyter.widget-view+json": {
       "model_id": "e38bdd1c275641ca938e228c711b1a82",
       "version_major": 2,
       "version_minor": 0
      },
      "text/plain": [
       "Processing Time Series:   0%|          | 0/1 [00:00<?, ?it/s]"
      ]
     },
     "metadata": {},
     "output_type": "display_data"
    },
    {
     "name": "stdout",
     "output_type": "stream",
     "text": [
      "  D2C (1 job) finished in 1617.6249 seconds.\n",
      "Running D2C (50 jobs)...\n",
      "Running in single-threaded mode or managing parallelism manually.\n"
     ]
    },
    {
     "data": {
      "application/vnd.jupyter.widget-view+json": {
       "model_id": "977912565e024645a4f8c03cce035c45",
       "version_major": 2,
       "version_minor": 0
      },
      "text/plain": [
       "Processing Time Series:   0%|          | 0/1 [00:00<?, ?it/s]"
      ]
     },
     "metadata": {},
     "output_type": "display_data"
    },
    {
     "name": "stdout",
     "output_type": "stream",
     "text": [
      "Running descriptor computation in parallel with 50 jobs...\n"
     ]
    },
    {
     "data": {
      "application/vnd.jupyter.widget-view+json": {
       "model_id": "f6fbdd07cf6e4e5fb67beca965552297",
       "version_major": 2,
       "version_minor": 0
      },
      "text/plain": [
       "Computing Descriptors:   0%|          | 0/1875 [00:00<?, ?it/s]"
      ]
     },
     "metadata": {},
     "output_type": "display_data"
    },
    {
     "name": "stdout",
     "output_type": "stream",
     "text": [
      "  D2C (50 jobs) finished in 57.1694 seconds.\n"
     ]
    }
   ],
   "source": [
    "# Step 2: Run the entire benchmark\n",
    "results_df = run_benchmark(trained_model)"
   ]
  },
  {
   "cell_type": "code",
   "execution_count": 29,
   "metadata": {},
   "outputs": [
    {
     "name": "stdout",
     "output_type": "stream",
     "text": [
      "\n",
      "\n",
      "--- Benchmark Complete ---\n",
      "    n_variables               method  execution_time\n",
      "0             3                  VAR        0.022938\n",
      "1             3            VARLiNGAM        0.394802\n",
      "2             3              Granger        0.057290\n",
      "3             3            DYNOTEARS        0.012883\n",
      "4             3  MultivariateGranger        0.021745\n",
      "5             3      PCMCI (ParCorr)        0.082189\n",
      "6             3         PCMCI (GPDC)        5.686050\n",
      "7             3          D2C (1 job)       24.041281\n",
      "8             3        D2C (50 jobs)        2.590190\n",
      "9             5                  VAR        0.019805\n",
      "10            5            VARLiNGAM        0.975096\n",
      "11            5              Granger        0.250311\n",
      "12            5            DYNOTEARS        0.028695\n",
      "13            5  MultivariateGranger        0.073262\n",
      "14            5      PCMCI (ParCorr)        0.309052\n",
      "15            5         PCMCI (GPDC)        9.642913\n",
      "16            5          D2C (1 job)       65.313772\n",
      "17            5        D2C (50 jobs)        3.655745\n",
      "18           10                  VAR        0.031770\n",
      "19           10            VARLiNGAM        3.665925\n",
      "20           10              Granger        0.512447\n",
      "21           10            DYNOTEARS        0.015643\n",
      "22           10  MultivariateGranger        0.146445\n",
      "23           10      PCMCI (ParCorr)        0.644599\n",
      "24           10         PCMCI (GPDC)       36.562613\n",
      "25           10          D2C (1 job)      263.030021\n",
      "26           10        D2C (50 jobs)       10.558366\n",
      "27           15                  VAR        0.056278\n",
      "28           15            VARLiNGAM       10.802763\n",
      "29           15              Granger        1.184241\n",
      "30           15            DYNOTEARS        0.025787\n",
      "31           15  MultivariateGranger        0.488487\n",
      "32           15      PCMCI (ParCorr)        1.398679\n",
      "33           15         PCMCI (GPDC)       66.606908\n",
      "34           15          D2C (1 job)      612.134385\n",
      "35           15        D2C (50 jobs)       39.282287\n",
      "36           20                  VAR        0.157290\n",
      "37           20            VARLiNGAM       51.520763\n",
      "38           20              Granger        2.292171\n",
      "39           20            DYNOTEARS        0.022617\n",
      "40           20  MultivariateGranger        1.816676\n",
      "41           20      PCMCI (ParCorr)        2.698572\n",
      "42           20         PCMCI (GPDC)      135.966694\n",
      "43           20          D2C (1 job)     1088.640417\n",
      "44           20        D2C (50 jobs)       38.932163\n",
      "45           25                  VAR        0.141083\n",
      "46           25            VARLiNGAM      342.996599\n",
      "47           25              Granger        2.981646\n",
      "48           25            DYNOTEARS        0.025069\n",
      "49           25  MultivariateGranger        6.127012\n",
      "50           25      PCMCI (ParCorr)        3.777031\n",
      "51           25         PCMCI (GPDC)      191.061845\n",
      "52           25          D2C (1 job)     1617.624892\n",
      "53           25        D2C (50 jobs)       57.169429\n",
      "\n",
      "Results saved to data/benchmark_times_by_nvars.csv\n"
     ]
    }
   ],
   "source": [
    "# Step 3: Display and save results\n",
    "print(\"\\n\\n--- Benchmark Complete ---\")\n",
    "print(results_df.to_string())\n",
    "\n",
    "results_df.to_csv(RESULTS_SAVE_PATH, index=False)\n",
    "print(f\"\\nResults saved to {RESULTS_SAVE_PATH}\")"
   ]
  },
  {
   "cell_type": "code",
   "execution_count": 34,
   "metadata": {},
   "outputs": [],
   "source": [
    "# replace D2C string with TD2C\n",
    "results_df['method'] = results_df['method'].str.replace('D2C', 'TD2C')"
   ]
  },
  {
   "cell_type": "code",
   "execution_count": 44,
   "metadata": {},
   "outputs": [
    {
     "data": {
      "image/png": "[encoded data removed]",
      "text/plain": [
       "<Figure size 1000x500 with 1 Axes>"
      ]
     },
     "metadata": {},
     "output_type": "display_data"
    }
   ],
   "source": [
    "import pandas as pd\n",
    "import matplotlib.pyplot as plt\n",
    "import numpy as np\n",
    "import seaborn as sns\n",
    "from matplotlib.colors import LogNorm\n",
    "import warnings\n",
    "warnings.filterwarnings('ignore')\n",
    "\n",
    "# Set up the plotting style\n",
    "plt.style.use('seaborn-v0_8')\n",
    "\n",
    "df = results_df\n",
    "\n",
    "# Define distinct colors and markers for each method\n",
    "methods = df['method'].unique()\n",
    "colors = ['#1f77b4', '#ff7f0e', '#2ca02c', '#d62728', '#9467bd', \n",
    "          '#8c564b', '#e377c2', '#7f7f7f', '#bcbd22']\n",
    "markers = ['o', 's', '^', 'D', 'v', '<', '>', 'p', '*']\n",
    "linestyles = ['-', '--', '-.', ':', '-', '--', '-.', ':', '-']\n",
    "\n",
    "# Create style mapping\n",
    "style_map = {}\n",
    "for i, method in enumerate(methods):\n",
    "    style_map[method] = {\n",
    "        'color': colors[i % len(colors)],\n",
    "        'marker': markers[i % len(markers)],\n",
    "        'linestyle': linestyles[i % len(linestyles)]\n",
    "    }\n",
    "\n",
    "# Plot 1: Line plot showing scaling with number of variables\n",
    "plt.figure(figsize=(10,5))\n",
    "for method in methods:\n",
    "    method_data = df[df['method'] == method]\n",
    "    style = style_map[method]\n",
    "    plt.plot(method_data['n_variables'], method_data['execution_time'], \n",
    "             marker=style['marker'], linewidth=2.5, markersize=8, \n",
    "             label=method, color=style['color'], linestyle=style['linestyle'],\n",
    "             markeredgecolor='white', markeredgewidth=0.5)\n",
    "\n",
    "plt.xlabel('Number of Variables')\n",
    "plt.ylabel('Execution Time (seconds) - Logarithm Scale')\n",
    "plt.yscale('log')\n",
    "plt.legend(bbox_to_anchor=(1.05, 1), loc='upper left')\n",
    "plt.grid(True, alpha=0.3)\n",
    "plt.tight_layout()\n",
    "plt.savefig('benchmark_scaling.png', dpi=300, bbox_inches='tight')\n",
    "plt.show()\n",
    "\n",
    "# # Plot 2: Bar plot for comparison at 10 variables\n",
    "# plt.figure(figsize=(12, 8))\n",
    "# df_10vars = df[df['n_variables'] == 10].sort_values('execution_time')\n",
    "# # Use distinct colors for bars\n",
    "# bar_colors = [style_map[method]['color'] for method in df_10vars['method']]\n",
    "# bars = plt.bar(range(len(df_10vars)), df_10vars['execution_time'], \n",
    "#                color=bar_colors, alpha=0.8, edgecolor='white', linewidth=1)\n",
    "# plt.xlabel('Methods')\n",
    "# plt.ylabel('Execution Time (seconds)')\n",
    "# plt.title('Method Comparison (10 Variables)')\n",
    "# plt.xticks(range(len(df_10vars)), df_10vars['method'], rotation=45, ha='right')\n",
    "# plt.yscale('log')\n",
    "# plt.grid(True, alpha=0.3)\n",
    "\n",
    "# # Add value labels on bars\n",
    "# for i, bar in enumerate(bars):\n",
    "#     height = bar.get_height()\n",
    "#     plt.text(bar.get_x() + bar.get_width()/2., height,\n",
    "#              f'{height:.3f}', ha='center', va='bottom', fontsize=8)\n",
    "\n",
    "# plt.tight_layout()\n",
    "# plt.savefig('benchmark_10vars_comparison.png', dpi=300, bbox_inches='tight')\n",
    "# plt.show()\n",
    "\n",
    "# # Plot 3: Heatmap showing execution times\n",
    "# plt.figure(figsize=(12, 10))\n",
    "# pivot_df = df.pivot(index='method', columns='n_variables', values='execution_time')\n",
    "# # Use a more vibrant colormap with better contrast\n",
    "# sns.heatmap(pivot_df, annot=True, fmt='.2f', cmap='plasma', \n",
    "#             norm=LogNorm(), cbar_kws={'label': 'Execution Time (seconds)'},\n",
    "#             linewidths=0.5, linecolor='white')\n",
    "# plt.title('Execution Time Heatmap (Log Scale)')\n",
    "# plt.xlabel('Number of Variables')\n",
    "# plt.ylabel('Method')\n",
    "# plt.tight_layout()\n",
    "# plt.savefig('benchmark_heatmap.png', dpi=300, bbox_inches='tight')\n",
    "# plt.show()\n",
    "\n",
    "# # Plot 4: Box plot showing distribution of execution times by method\n",
    "# plt.figure(figsize=(12, 10))\n",
    "# df_boxplot = df.copy()\n",
    "# df_boxplot['log_execution_time'] = np.log10(df_boxplot['execution_time'])\n",
    "# # Create custom color palette for box plot\n",
    "# box_colors = [style_map[method]['color'] for method in df_boxplot['method'].unique()]\n",
    "# sns.boxplot(data=df_boxplot, y='method', x='log_execution_time', \n",
    "#             palette=box_colors)\n",
    "# plt.xlabel('Log₁₀(Execution Time)')\n",
    "# plt.ylabel('Method')\n",
    "# plt.title('Distribution of Execution Times by Method')\n",
    "# plt.grid(True, alpha=0.3)\n",
    "# plt.tight_layout()\n",
    "# plt.savefig('benchmark_distribution.png', dpi=300, bbox_inches='tight')\n",
    "# plt.show()\n",
    "\n",
    "# # Additional analysis: Create a summary table\n",
    "# print(\"Summary Statistics:\")\n",
    "# print(\"=\" * 50)\n",
    "# summary_stats = df.groupby('method')['execution_time'].agg(['mean', 'std', 'min', 'max'])\n",
    "# summary_stats = summary_stats.round(4)\n",
    "# print(summary_stats)\n",
    "\n",
    "# # Show fastest and slowest methods\n",
    "# print(\"\\nFastest methods (average execution time):\")\n",
    "# print(summary_stats.sort_values('mean').head(3))\n",
    "\n",
    "# print(\"\\nSlowest methods (average execution time):\")\n",
    "# print(summary_stats.sort_values('mean').tail(3))\n",
    "\n",
    "# # Scaling analysis\n",
    "# print(\"\\nScaling Analysis (execution time ratio from 3 to 25 variables):\")\n",
    "# print(\"=\" * 60)\n",
    "# for method in df['method'].unique():\n",
    "#     method_data = df[df['method'] == method]\n",
    "#     time_3vars = method_data[method_data['n_variables'] == 3]['execution_time'].values[0]\n",
    "#     time_25vars = method_data[method_data['n_variables'] == 25]['execution_time'].values[0]\n",
    "#     scaling_factor = time_25vars / time_3vars\n",
    "#     print(f\"{method:20s}: {scaling_factor:8.1f}x slower\")\n",
    "\n",
    "# # Bonus: Create a plot focusing on the fastest methods\n",
    "# plt.figure(figsize=(12, 8))\n",
    "# fast_methods = ['VAR', 'DYNOTEARS', 'Granger', 'MultivariateGranger', 'PCMCI (ParCorr)']\n",
    "# for method in fast_methods:\n",
    "#     method_data = df[df['method'] == method]\n",
    "#     style = style_map[method]\n",
    "#     plt.plot(method_data['n_variables'], method_data['execution_time'], \n",
    "#              marker=style['marker'], linewidth=3, markersize=10, label=method,\n",
    "#              color=style['color'], linestyle=style['linestyle'],\n",
    "#              markeredgecolor='white', markeredgewidth=0.5)\n",
    "\n",
    "# plt.xlabel('Number of Variables')\n",
    "# plt.ylabel('Execution Time (seconds)')\n",
    "# plt.title('Fastest Causal Discovery Methods Comparison')\n",
    "# plt.legend()\n",
    "# plt.grid(True, alpha=0.3)\n",
    "# plt.tight_layout()\n",
    "# plt.savefig('benchmark_fast_methods.png', dpi=300, bbox_inches='tight')\n",
    "# plt.show()\n",
    "\n",
    "# print(\"\\nAll plots saved:\")\n",
    "# print(\"- benchmark_scaling.png\")\n",
    "# print(\"- benchmark_10vars_comparison.png\") \n",
    "# print(\"- benchmark_heatmap.png\")\n",
    "# print(\"- benchmark_distribution.png\")\n",
    "# print(\"- benchmark_fast_methods.png\")"
   ]
  },
  {
   "cell_type": "code",
   "execution_count": null,
   "metadata": {},
   "outputs": [],
   "source": []
  }
 ],
 "metadata": {
  "kernelspec": {
   "display_name": "td2c",
   "language": "python",
   "name": "python3"
  },
  "language_info": {
   "codemirror_mode": {
    "name": "ipython",
    "version": 3
   },
   "file_extension": ".py",
   "mimetype": "text/x-python",
   "name": "python",
   "nbconvert_exporter": "python",
   "pygments_lexer": "ipython3",
   "version": "3.8.19"
  }
 },
 "nbformat": 4,
 "nbformat_minor": 2
}
