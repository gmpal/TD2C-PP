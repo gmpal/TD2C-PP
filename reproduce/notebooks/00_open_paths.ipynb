{
 "cells": [
  {
   "cell_type": "code",
   "execution_count": 3,
   "metadata": {},
   "outputs": [],
   "source": [
    "#avoids the need for users to install TD2C as a package\n",
    "import sys\n",
    "sys.path.append('../../') "
   ]
  },
  {
   "cell_type": "code",
   "execution_count": 4,
   "metadata": {},
   "outputs": [],
   "source": [
    "from src.dags.utils import run_long_range_analysis"
   ]
  },
  {
   "cell_type": "code",
   "execution_count": null,
   "metadata": {},
   "outputs": [],
   "source": [
    "# Scenario 1: Simple Case (Z_i -> Z_j)\n",
    "rules_simple = [\n",
    "    ('Z_i', 'Z_i', 1),\n",
    "    ('Z_j', 'Z_j', 1),\n",
    "    ('Z_i', 'Z_j', 1),\n",
    "]\n",
    "\n",
    "# Scenario 2: Complex Case (Z_k -> Z_i -> Z_j, plus longer lags)\n",
    "rules_complex = rules_simple + [\n",
    "    ('Z_i', 'Z_i', 2),\n",
    "    ('Z_j', 'Z_j', 2),\n",
    "]\n",
    "\n",
    "# Scenario 3: Latent Confounder Case (L -> Z_i, L -> Z_j)\n",
    "rules_latent = rules_complex + [\n",
    "    ('L', 'L', 1),\n",
    "        ('L', 'Z_i', 1),  \n",
    "        ('L', 'Z_j', 1),\n",
    "\n",
    "]\n",
    "\n",
    "# --- Generate and Print Results ---\n",
    "length = 10\n",
    "\n",
    "print(\"=\"*35 + \" SCENARIO 1: Simple Case \" + \"=\"*35)\n",
    "df_simple = run_long_range_analysis(rules_simple,length)\n",
    "print(df_simple.to_string(index=False))\n",
    "print(\"\\n\")\n",
    "\n",
    "print(\"=\"*35 + \" SCENARIO 2: Complex Case \" + \"=\"*35)\n",
    "df_complex = run_long_range_analysis(rules_complex,length)\n",
    "print(df_complex.to_string(index=False))\n",
    "print(\"\\n\")\n",
    "\n",
    "\n",
    "print(\"=\"*35 + \" SCENARIO 2: Latent Case \" + \"=\"*35)\n",
    "df_latent = run_long_range_analysis(rules_latent,length)\n",
    "print(df_latent.to_string(index=False))\n",
    "print(\"\\n\")"
   ]
  }
 ],
 "metadata": {
  "kernelspec": {
   "display_name": "vpp",
   "language": "python",
   "name": "python3"
  },
  "language_info": {
   "codemirror_mode": {
    "name": "ipython",
    "version": 3
   },
   "file_extension": ".py",
   "mimetype": "text/x-python",
   "name": "python",
   "nbconvert_exporter": "python",
   "pygments_lexer": "ipython3",
   "version": "3.11.11"
  }
 },
 "nbformat": 4,
 "nbformat_minor": 2
}
