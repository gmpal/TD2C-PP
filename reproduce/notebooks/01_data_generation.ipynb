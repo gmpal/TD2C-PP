{
 "cells": [
  {
   "cell_type": "code",
   "execution_count": null,
   "metadata": {},
   "outputs": [],
   "source": [
    "#avoids the need for users to install TD2C as a package\n",
    "import sys\n",
    "sys.path.append('../..') "
   ]
  },
  {
   "cell_type": "code",
   "execution_count": null,
   "metadata": {},
   "outputs": [],
   "source": [
    "from src.data_generation.builder import TSBuilder\n",
    "from src import config"
   ]
  },
  {
   "cell_type": "code",
   "execution_count": null,
   "metadata": {},
   "outputs": [],
   "source": [
    "for error in ['gaussian', 'uniform', 'laplace']:\n",
    "    print(f\"Generating synthetic data with {error} noise...\")\n",
    "\n",
    "    tsbuilder = TSBuilder(observations_per_time_series=250, \n",
    "                                maxlags=config.MAXLAGS, \n",
    "                                n_variables=config.N_VARS, \n",
    "                                time_series_per_process=120, \n",
    "                                processes_to_use=[1,3,5,7,9,11,13,15,19],\n",
    "                                noise_dist=error,\n",
    "                                noise_scale=0.1, \n",
    "                                max_neighborhood_size=2, \n",
    "                                seed=42, \n",
    "                                max_attempts=10,\n",
    "                                verbose=True)\n",
    "\n",
    "    tsbuilder.build()\n",
    "\n",
    "    tsbuilder.to_pickle(f'{config.OBSERVATION_PATH}training_data_{error}.pkl')"
   ]
  },
  {
   "cell_type": "code",
   "execution_count": null,
   "metadata": {},
   "outputs": [],
   "source": [
    "error_process_map = {'gaussian':[2,4,6,8,10,12,14,16,18], 'uniform':[2,4,6,8,10,12,14,16,18], 'laplace':[2,4,6,8,10,12,14,16,18]}\n",
    "\n",
    "for error in ['gaussian', 'uniform', 'laplace']:\n",
    "    print(f\"Generating synthetic data with {error} noise...\")\n",
    "\n",
    "    tsbuilder = TSBuilder(observations_per_time_series=250, \n",
    "                                maxlags=config.MAXLAGS, \n",
    "                                n_variables=config.N_VARS, \n",
    "                                time_series_per_process=40, \n",
    "                                processes_to_use=error_process_map[error],\n",
    "                                noise_dist=error,\n",
    "                                noise_scale=0.1, \n",
    "                                max_neighborhood_size=2, \n",
    "                                seed=42, \n",
    "                                max_attempts=10,\n",
    "                                verbose=True)\n",
    "\n",
    "    tsbuilder.build()\n",
    "\n",
    "    tsbuilder.to_pickle(f'{config.OBSERVATION_PATH}testing_data_{error}.pkl')"
   ]
  },
  {
   "cell_type": "code",
   "execution_count": null,
   "metadata": {},
   "outputs": [],
   "source": [
    "# we can check one of the generated time series\n",
    "tsbuilder.get_generated_observations()"
   ]
  },
  {
   "cell_type": "code",
   "execution_count": null,
   "metadata": {},
   "outputs": [],
   "source": [
    "# we can check one of the generated dags\n",
    "from d2c.data_generation.utils import show_DAG\n",
    "dag = tsbuilder.get_generated_dags()[1][2]\n",
    "show_DAG(dag, config.N_VARS, config.MAXLAGS)"
   ]
  }
 ],
 "metadata": {
  "kernelspec": {
   "display_name": "td2c",
   "language": "python",
   "name": "python3"
  },
  "language_info": {
   "codemirror_mode": {
    "name": "ipython",
    "version": 3
   },
   "file_extension": ".py",
   "mimetype": "text/x-python",
   "name": "python",
   "nbconvert_exporter": "python",
   "pygments_lexer": "ipython3",
   "version": "3.8.19"
  }
 },
 "nbformat": 4,
 "nbformat_minor": 2
}
